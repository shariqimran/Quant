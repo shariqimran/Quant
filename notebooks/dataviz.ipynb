{
 "cells": [
  {
   "cell_type": "markdown",
   "id": "420fd066-9299-4005-a0fc-5e547f0e9f9a",
   "metadata": {},
   "source": [
    "# Market Data Visulaizer"
   ]
  },
  {
   "cell_type": "markdown",
   "id": "e460c162-6e37-421d-b7d3-9a6d69fa3f17",
   "metadata": {},
   "source": [
    "### Step 0: Imports"
   ]
  },
  {
   "cell_type": "code",
   "execution_count": 17,
   "id": "54295922-90da-4bc5-b5bd-e25cea31bbab",
   "metadata": {},
   "outputs": [],
   "source": [
    "# imports\n",
    "import pandas as pd\n",
    "import numpy as np\n",
    "import matplotlib.pyplot as plt\n",
    "from pathlib import Path\n",
    "import re\n",
    "import ipywidgets as widgets\n",
    "from IPython.display import display, clear_output\n",
    "from ipywidgets import interact\n",
    "\n",
    "# make plots a bit larger\n",
    "plt.rcParams[\"figure.figsize\"] = (11, 4)"
   ]
  },
  {
   "cell_type": "markdown",
   "id": "d8060716-5213-4471-b0d5-18155804e0fb",
   "metadata": {},
   "source": [
    "## Part 1: Loading Data"
   ]
  },
  {
   "cell_type": "markdown",
   "id": "e9d638e0-a4e1-4ea5-bcc0-1e8583a831fc",
   "metadata": {},
   "source": [
    "### Step 1.1: Data Location & Available Files"
   ]
  },
  {
   "cell_type": "code",
   "execution_count": 2,
   "id": "475c2140-6f4c-4fa4-92f5-63eda9ea31b0",
   "metadata": {},
   "outputs": [
    {
     "data": {
      "text/plain": [
       "[PosixPath('../data/raw/aapl_1d_2010-01-01_2025-08-16_yf.csv'),\n",
       " PosixPath('../data/raw/spy_1d_2020-01-01_2025-08-16_yf.csv')]"
      ]
     },
     "execution_count": 2,
     "metadata": {},
     "output_type": "execute_result"
    }
   ],
   "source": [
    "# Output .csv files in data/raw/..\n",
    "\n",
    "raw_dir = Path(\"../data/raw\")\n",
    "raw_dir.mkdir(parents=True, exist_ok=True)  # ensure folder exists\n",
    "csv_files = sorted([p for p in raw_dir.glob(\"*.csv\")])\n",
    "if not csv_files:\n",
    "    print(\"No CSV files found in ../data/raw yet. Save one with fetch_data_yf.py first.\")\n",
    "csv_files[:5]  # preview list"
   ]
  },
  {
   "cell_type": "markdown",
   "id": "e6fa771d-f97d-400c-95c2-9a50d5bb704b",
   "metadata": {},
   "source": [
    "### Step 1.2: Choose & Load Dataset"
   ]
  },
  {
   "cell_type": "code",
   "execution_count": 5,
   "id": "4251f936-d536-43c5-bfd4-ff0643c6e0c8",
   "metadata": {},
   "outputs": [
    {
     "name": "stdin",
     "output_type": "stream",
     "text": [
      "symbol used in filename (e.g., btc_usd or aapl):  aapl\n",
      "interval used in filename (e.g., 1d, 1wk, 1h):  1d\n",
      "start date used in filename (YYYY-MM-DD) or blank:  2010-01-01\n",
      "end date used in filename (YYYY-MM-DD) or blank:  2025-08-16\n"
     ]
    },
    {
     "name": "stdout",
     "output_type": "stream",
     "text": [
      "loading: ../data/raw/aapl_1d_2010-01-01_2025-08-16_yf.csv\n"
     ]
    },
    {
     "data": {
      "text/html": [
       "<div>\n",
       "<style scoped>\n",
       "    .dataframe tbody tr th:only-of-type {\n",
       "        vertical-align: middle;\n",
       "    }\n",
       "\n",
       "    .dataframe tbody tr th {\n",
       "        vertical-align: top;\n",
       "    }\n",
       "\n",
       "    .dataframe thead th {\n",
       "        text-align: right;\n",
       "    }\n",
       "</style>\n",
       "<table border=\"1\" class=\"dataframe\">\n",
       "  <thead>\n",
       "    <tr style=\"text-align: right;\">\n",
       "      <th></th>\n",
       "      <th>timestamp</th>\n",
       "      <th>open</th>\n",
       "      <th>high</th>\n",
       "      <th>low</th>\n",
       "      <th>close</th>\n",
       "      <th>volume</th>\n",
       "    </tr>\n",
       "  </thead>\n",
       "  <tbody>\n",
       "    <tr>\n",
       "      <th>0</th>\n",
       "      <td>2010-01-04 00:00:00+00:00</td>\n",
       "      <td>7.622500</td>\n",
       "      <td>7.660714</td>\n",
       "      <td>7.585000</td>\n",
       "      <td>6.424605</td>\n",
       "      <td>493729600</td>\n",
       "    </tr>\n",
       "    <tr>\n",
       "      <th>1</th>\n",
       "      <td>2010-01-05 00:00:00+00:00</td>\n",
       "      <td>7.664286</td>\n",
       "      <td>7.699643</td>\n",
       "      <td>7.616071</td>\n",
       "      <td>6.435713</td>\n",
       "      <td>601904800</td>\n",
       "    </tr>\n",
       "    <tr>\n",
       "      <th>2</th>\n",
       "      <td>2010-01-06 00:00:00+00:00</td>\n",
       "      <td>7.656429</td>\n",
       "      <td>7.686786</td>\n",
       "      <td>7.526786</td>\n",
       "      <td>6.333345</td>\n",
       "      <td>552160000</td>\n",
       "    </tr>\n",
       "    <tr>\n",
       "      <th>3</th>\n",
       "      <td>2010-01-07 00:00:00+00:00</td>\n",
       "      <td>7.562500</td>\n",
       "      <td>7.571429</td>\n",
       "      <td>7.466071</td>\n",
       "      <td>6.321635</td>\n",
       "      <td>477131200</td>\n",
       "    </tr>\n",
       "    <tr>\n",
       "      <th>4</th>\n",
       "      <td>2010-01-08 00:00:00+00:00</td>\n",
       "      <td>7.510714</td>\n",
       "      <td>7.571429</td>\n",
       "      <td>7.466429</td>\n",
       "      <td>6.363664</td>\n",
       "      <td>447610800</td>\n",
       "    </tr>\n",
       "  </tbody>\n",
       "</table>\n",
       "</div>"
      ],
      "text/plain": [
       "                  timestamp      open      high       low     close     volume\n",
       "0 2010-01-04 00:00:00+00:00  7.622500  7.660714  7.585000  6.424605  493729600\n",
       "1 2010-01-05 00:00:00+00:00  7.664286  7.699643  7.616071  6.435713  601904800\n",
       "2 2010-01-06 00:00:00+00:00  7.656429  7.686786  7.526786  6.333345  552160000\n",
       "3 2010-01-07 00:00:00+00:00  7.562500  7.571429  7.466071  6.321635  477131200\n",
       "4 2010-01-08 00:00:00+00:00  7.510714  7.571429  7.466429  6.363664  447610800"
      ]
     },
     "execution_count": 5,
     "metadata": {},
     "output_type": "execute_result"
    }
   ],
   "source": [
    "# choose the file to explore (interactive but simple)\n",
    "symbol = input(\"symbol used in filename (e.g., btc_usd or aapl): \").strip().lower()\n",
    "interval = input(\"interval used in filename (e.g., 1d, 1wk, 1h): \").strip()\n",
    "\n",
    "maybe_start = input(\"start date used in filename (YYYY-MM-DD) or blank: \").strip()\n",
    "maybe_end   = input(\"end date used in filename (YYYY-MM-DD) or blank: \").strip()\n",
    "\n",
    "raw_dir = Path(\"../data/raw\")\n",
    "file_path = raw_dir / f\"{symbol}_{interval}_{maybe_start}_{maybe_end}_yf.csv\"\n",
    "\n",
    "print(\"loading:\", file_path)\n",
    "\n",
    "# parse timestamps on load\n",
    "df = pd.read_csv(file_path, parse_dates=[\"timestamp\"])\n",
    "df = df.sort_values(\"timestamp\").reset_index(drop=True)\n",
    "df.head()"
   ]
  },
  {
   "cell_type": "markdown",
   "id": "63c119c4-ca6f-452b-9303-85934f1f82f8",
   "metadata": {},
   "source": [
    "## Part 2: Initial EDA"
   ]
  },
  {
   "cell_type": "markdown",
   "id": "c843f49c-9b02-4d0b-9164-9f5222291b27",
   "metadata": {},
   "source": [
    "### Step 2.1: Sanity Check"
   ]
  },
  {
   "cell_type": "code",
   "execution_count": 6,
   "id": "93402445-173b-4abe-8170-cde015645d60",
   "metadata": {},
   "outputs": [
    {
     "name": "stdout",
     "output_type": "stream",
     "text": [
      "rows: 3929\n",
      "range: 2010-01-04 → 2025-08-15\n",
      "columns: ['timestamp', 'open', 'high', 'low', 'close', 'volume']\n",
      "\n",
      "missing values per column:\n",
      "timestamp    0\n",
      "open         0\n",
      "high         0\n",
      "low          0\n",
      "close        0\n",
      "volume       0\n",
      "dtype: int64\n"
     ]
    }
   ],
   "source": [
    "# Sanity check\n",
    "\n",
    "print(\"rows:\", len(df))\n",
    "print(\"range:\", df[\"timestamp\"].min().date(), \"→\", df[\"timestamp\"].max().date())\n",
    "print(\"columns:\", list(df.columns))\n",
    "\n",
    "# missing values check\n",
    "print(\"\\nmissing values per column:\")\n",
    "print(df.isna().sum())"
   ]
  },
  {
   "cell_type": "markdown",
   "id": "b2f2242f-f6f5-4029-99d6-36ce1560a13c",
   "metadata": {},
   "source": [
    "### Step 2.2: Closing Price Chart\n",
    "\n",
    "The closing price is the last traded price of the asset for each interval (e.g., daily close).\n",
    "Plotting it over time gives an immediate sense of:\n",
    "\n",
    "\t• Whether the asset is trending upward, downward, or moving sideways.\n",
    "\t• Periods of sharp rises or crashes (e.g., during market events).\n",
    "\t• Long-term growth patterns versus short-term fluctuations."
   ]
  },
  {
   "cell_type": "code",
   "execution_count": 7,
   "id": "9b17d915-52e4-479c-96e7-70a133ead8ab",
   "metadata": {},
   "outputs": [
    {
     "data": {
      "image/png": "[encoded data removed]",
      "text/plain": [
       "<Figure size 1000x500 with 1 Axes>"
      ]
     },
     "metadata": {},
     "output_type": "display_data"
    }
   ],
   "source": [
    "# Plot the closing price over time\n",
    "ax = df.plot(\n",
    "    x=\"timestamp\",           # x-axis = time\n",
    "    y=\"close\",               # y-axis = closing price\n",
    "    title=f\"{symbol.upper()} price ({interval})\",  # chart title\n",
    "    figsize=(10,5)           # make chart bigger for readability\n",
    ")\n",
    "\n",
    "# Label the axes\n",
    "ax.set_xlabel(\"date\")\n",
    "ax.set_ylabel(\"price\")\n",
    "\n",
    "# Show the chart\n",
    "plt.show()"
   ]
  },
  {
   "cell_type": "markdown",
   "id": "ed5b020b-8c19-4009-b50f-cdd29be910ca",
   "metadata": {},
   "source": [
    "### Step 2.3: Trading Volume\n",
    "\n",
    "The volume chart shows how much of the asset is traded over time. This matters because large price moves on high volume indicate stronger conviction (more participants), while moves on low volume can be misleading.\n",
    "\n",
    "What’s shown here:\n",
    "\n",
    "\t• Blue line = raw daily trading volume.\n",
    "\t• Orange line = rolling average of volume (default = 20 bars ≈ one month for daily data).\n",
    "    • X-bar average” means the average over the last X data points. One bar = one row of your dataset (daily = 1 day, hourly = 1 hour, weekly = 1 week). So a  20-bar average on daily data ≈ 1 month of trading.\n",
    "\t• This helps you compare today’s activity to “typical” recent levels.\n",
    "\t• You can adjust the window interactively depending on your data frequency (daily, weekly, hourly).\n",
    "\t• Red circles = top-5 spike days (unusually high activity).\n",
    "\n",
    "How to interpret:\n",
    "\n",
    "\t• Spikes far above the average = event days (earnings, splits, news).\n",
    "\t• Persistent rising average = growing participation.\n",
    "\t• Very low volume = quieter regimes, where signals may be less reliable.\n",
    "\n",
    "Typical ranges for the rolling average:\n",
    "\n",
    "\t• Daily data → 10–30 bars (≈ 2–6 weeks)\n",
    "\t• Weekly data → 4–12 bars (≈ 1–3 months)\n",
    "\t• Hourly data → 24–168 bars (≈ 1–7 days)"
   ]
  },
  {
   "cell_type": "code",
   "execution_count": 15,
   "id": "1e87b4e1-cbf5-4fdf-9995-3aa8aeba3deb",
   "metadata": {},
   "outputs": [
    {
     "data": {
      "application/vnd.jupyter.widget-view+json": {
       "model_id": "c39e28126be44fe891890b2b312da24b",
       "version_major": 2,
       "version_minor": 0
      },
      "text/plain": [
       "interactive(children=(IntSlider(value=20, description='Avg Window', min=5, step=5), Output()), _dom_classes=('…"
      ]
     },
     "metadata": {},
     "output_type": "display_data"
    },
    {
     "data": {
      "text/plain": [
       "<function __main__.plot_volume(avg_window)>"
      ]
     },
     "execution_count": 15,
     "metadata": {},
     "output_type": "execute_result"
    }
   ],
   "source": [
    "# Trading Volume\n",
    "\n",
    "# 1) Convert raw volume to millions for readability\n",
    "vol_millions = df[\"volume\"] / 1e6  \n",
    "\n",
    "# 2) Create an interactive slider for rolling average window\n",
    "avg_slider = widgets.IntSlider(\n",
    "    value=20, min=5, max=100, step=5, description=\"Avg Window\"\n",
    ")\n",
    "\n",
    "def plot_volume(avg_window):\n",
    "    fig, ax = plt.subplots(figsize=(12, 5))\n",
    "    \n",
    "    # Plot raw trading volume\n",
    "    vol_millions.plot(ax=ax, alpha=0.6, label=\"volume\")\n",
    "    \n",
    "    # Overlay rolling average (orange line)\n",
    "    vol_millions.rolling(avg_window).mean().plot(\n",
    "        ax=ax, linewidth=2, label=f\"{avg_window}-bar avg\"\n",
    "    )\n",
    "    \n",
    "    # Mark top-5 spike days\n",
    "    top_spikes = vol_millions.nlargest(5)\n",
    "    ax.scatter(\n",
    "        top_spikes.index, top_spikes.values,\n",
    "        color=\"red\", s=50, zorder=5, label=\"top-5 spikes\"\n",
    "    )\n",
    "    \n",
    "    # Label axes\n",
    "    ax.set_title(f\"{symbol.upper()} — Trading Volume ({interval})\")\n",
    "    ax.set_ylabel(\"volume (millions of shares)\")\n",
    "    ax.set_xlabel(\"date\")\n",
    "    ax.legend()\n",
    "    plt.show()\n",
    "\n",
    "# 3) Display interactive plot\n",
    "widgets.interact(plot_volume, avg_window=avg_slider)"
   ]
  },
  {
   "cell_type": "code",
   "execution_count": null,
   "id": "7f2c1e7d-8107-49ca-8360-00583c29bc1b",
   "metadata": {},
   "outputs": [],
   "source": []
  },
  {
   "cell_type": "markdown",
   "id": "108945c9-c79c-4b68-a19f-ce8190965602",
   "metadata": {},
   "source": [
    "### Step 2.4: Cumulative Returns"
   ]
  },
  {
   "cell_type": "code",
   "execution_count": 28,
   "id": "59f04264-bf40-4227-8780-33b03ff57c3e",
   "metadata": {},
   "outputs": [
    {
     "data": {
      "application/vnd.jupyter.widget-view+json": {
       "model_id": "e89ffa6a081448bb85bdff23ad8aa148",
       "version_major": 2,
       "version_minor": 0
      },
      "text/plain": [
       "interactive(children=(IntSlider(value=1000, description='Invest $', max=10000, min=100, step=100), IntSlider(v…"
      ]
     },
     "metadata": {},
     "output_type": "display_data"
    },
    {
     "data": {
      "text/plain": [
       "<function __main__.plot_cumulative(initial_investment=1000, start_index=0)>"
      ]
     },
     "execution_count": 28,
     "metadata": {},
     "output_type": "execute_result"
    }
   ],
   "source": [
    "import ipywidgets as widgets\n",
    "from ipywidgets import interact\n",
    "import matplotlib.dates as mdates\n",
    "\n",
    "# --- Step 3: Interactive cumulative returns ---\n",
    "\n",
    "# Ensure daily simple returns exist\n",
    "df[\"return_simple\"] = df[\"close\"].pct_change()\n",
    "df[\"cumulative_return\"] = (1 + df[\"return_simple\"]).cumprod()\n",
    "\n",
    "def plot_cumulative(initial_investment=1000, start_index=0):\n",
    "    \"\"\"\n",
    "    Interactive cumulative returns plot.\n",
    "    User can set:\n",
    "      - initial investment amount ($)\n",
    "      - start date (via index slider)\n",
    "    \"\"\"\n",
    "    # Slice data starting from chosen index\n",
    "    data = df.iloc[start_index:].copy()\n",
    "    if data.empty:\n",
    "        print(\"⚠️ Not enough data from this start date.\")\n",
    "        return\n",
    "    \n",
    "    # Re-base cumulative returns from this start\n",
    "    data[\"rebased\"] = (1 + data[\"return_simple\"]).iloc[1:].cumprod()\n",
    "    data[\"portfolio_value\"] = initial_investment * (1 + data[\"return_simple\"]).cumprod()\n",
    "    \n",
    "    # Plot\n",
    "    plt.figure(figsize=(12,6))\n",
    "    plt.plot(data[\"timestamp\"], data[\"portfolio_value\"], color=\"purple\", linewidth=2,\n",
    "             label=f\"Growth of ${initial_investment:,}\")\n",
    "    \n",
    "    # Mark start & end\n",
    "    start_val = data[\"portfolio_value\"].iloc[0]\n",
    "    end_val = data[\"portfolio_value\"].iloc[-1]\n",
    "    plt.scatter(data[\"timestamp\"].iloc[0], start_val, color=\"green\", s=60, zorder=5, label=f\"Start: ${start_val:.2f}\")\n",
    "    plt.scatter(data[\"timestamp\"].iloc[-1], end_val, color=\"red\", s=60, zorder=5, label=f\"End: ${end_val:.2f}\")\n",
    "    \n",
    "    # Annotation for final value\n",
    "    plt.text(data[\"timestamp\"].iloc[-1], end_val, f\"  Final: ${end_val:.2f}\",\n",
    "             verticalalignment=\"center\", fontsize=10, color=\"red\")\n",
    "    \n",
    "    # Titles and labels\n",
    "    plt.title(\"Cumulative Returns (Compounded Growth)\", fontsize=14)\n",
    "    plt.xlabel(\"Date\")\n",
    "    plt.ylabel(\"Portfolio Value ($)\")\n",
    "    plt.legend()\n",
    "    plt.grid(True, linestyle=\"--\", alpha=0.6)\n",
    "    \n",
    "    # Better x-axis formatting\n",
    "    plt.gca().xaxis.set_major_locator(mdates.YearLocator())\n",
    "    plt.gca().xaxis.set_major_formatter(mdates.DateFormatter('%Y'))\n",
    "    \n",
    "    plt.show()\n",
    "\n",
    "# Interactive sliders\n",
    "interact(\n",
    "    plot_cumulative,\n",
    "    initial_investment=widgets.IntSlider(value=1000, min=100, max=10000, step=100, description=\"Invest $\"),\n",
    "    start_index=widgets.IntSlider(value=0, min=0, max=len(df)-1, step=50, description=\"Start Date\")\n",
    ")"
   ]
  },
  {
   "cell_type": "code",
   "execution_count": null,
   "id": "bd9ad6b1-77fd-4221-bb0f-915251f7bc91",
   "metadata": {},
   "outputs": [],
   "source": []
  }
 ],
 "metadata": {
  "kernelspec": {
   "display_name": "quantAI",
   "language": "python",
   "name": "quantai"
  },
  "language_info": {
   "codemirror_mode": {
    "name": "ipython",
    "version": 3
   },
   "file_extension": ".py",
   "mimetype": "text/x-python",
   "name": "python",
   "nbconvert_exporter": "python",
   "pygments_lexer": "ipython3",
   "version": "3.13.5"
  }
 },
 "nbformat": 4,
 "nbformat_minor": 5
}
