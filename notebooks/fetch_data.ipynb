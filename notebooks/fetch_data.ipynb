{
 "cells": [
  {
   "cell_type": "code",
   "execution_count": 1,
   "id": "4599e768-8efe-4c69-b1ce-b786e55c612b",
   "metadata": {},
   "outputs": [
    {
     "ename": "ModuleNotFoundError",
     "evalue": "No module named 'ccxt'",
     "output_type": "error",
     "traceback": [
      "\u001b[0;31m---------------------------------------------------------------------------\u001b[0m",
      "\u001b[0;31mModuleNotFoundError\u001b[0m                       Traceback (most recent call last)",
      "Cell \u001b[0;32mIn[1], line 2\u001b[0m\n\u001b[1;32m      1\u001b[0m \u001b[38;5;28;01mimport\u001b[39;00m \u001b[38;5;21;01mpandas\u001b[39;00m \u001b[38;5;28;01mas\u001b[39;00m \u001b[38;5;21;01mpd\u001b[39;00m \n\u001b[0;32m----> 2\u001b[0m \u001b[38;5;28;01mimport\u001b[39;00m \u001b[38;5;21;01mccxt\u001b[39;00m \n\u001b[1;32m      3\u001b[0m \u001b[38;5;28;01mimport\u001b[39;00m \u001b[38;5;21;01mtime\u001b[39;00m\n\u001b[1;32m      5\u001b[0m exchange \u001b[38;5;241m=\u001b[39m ccxt\u001b[38;5;241m.\u001b[39mbinance()  \u001b[38;5;66;03m# Connect to Binance\u001b[39;00m\n",
      "\u001b[0;31mModuleNotFoundError\u001b[0m: No module named 'ccxt'"
     ]
    }
   ],
   "source": [
    "import pandas as pd \n",
    "import ccxt \n",
    "import time\n",
    "\n",
    "exchange = ccxt.binance()  # Connect to Binance\n",
    "\n",
    "symbol = 'BTC/USDT'        # What to trade\n",
    "timeframe = '1d'           # Daily candles\n",
    "limit = 500                # Get 500 days of data\n",
    "ohlcv = exchange.fetch_ohlcv(symbol, timeframe=timeframe, limit=limit)\n",
    "\n",
    "# O = Open - Price when the period started\n",
    "# H = High - Highest price during the period\n",
    "# L = Low - Lowest price during the period\n",
    "# C = Close - Price when the period ended\n",
    "# V = Volume - How much was traded\n",
    "df = pd.DataFrame(ohlcv, columns=['timestamp', 'open', 'high', 'low', 'close', 'volume'])\n",
    "df['timestamp'] = pd.to_datetime(df['timestamp'], unit='ms')\n",
    "\n",
    "df.to_csv('../data/btc_usdt.csv', index=False)\n",
    "print(\"Saved to ../data/btc_usdt.csv\")\n",
    "\n",
    "# # Get market data\n",
    "# ohlcv = exchange.fetch_ohlcv('BTC/USDT', '1d', limit=500)\n",
    "\n",
    "# # Get ticker info\n",
    "# ticker = exchange.fetch_ticker('BTC/USDT')\n",
    "\n",
    "# # Get order book\n",
    "# orderbook = exchange.fetch_order_book('BTC/USDT')\n",
    "\n",
    "# # Get recent trades\n",
    "# trades = exchange.fetch_trades('BTC/USDT')"
   ]
  },
  {
   "cell_type": "code",
   "execution_count": null,
   "id": "2dfe6f61-994f-4449-8dc8-a472e5eaaa17",
   "metadata": {},
   "outputs": [],
   "source": []
  }
 ],
 "metadata": {
  "kernelspec": {
   "display_name": "quantAI",
   "language": "python",
   "name": "quantai"
  },
  "language_info": {
   "codemirror_mode": {
    "name": "ipython",
    "version": 3
   },
   "file_extension": ".py",
   "mimetype": "text/x-python",
   "name": "python",
   "nbconvert_exporter": "python",
   "pygments_lexer": "ipython3",
   "version": "3.13.5"
  }
 },
 "nbformat": 4,
 "nbformat_minor": 5
}
